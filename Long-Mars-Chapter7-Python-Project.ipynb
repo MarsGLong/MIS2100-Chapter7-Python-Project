{
 "cells": [
  {
   "cell_type": "code",
   "execution_count": 12,
   "id": "0e40b77a",
   "metadata": {},
   "outputs": [],
   "source": [
    "class SimpleMath:\n",
    "    def divide(self, numerator, denominator):\n",
    "        if denominator == 0:\n",
    "            raise ZeroDivisionError()\n",
    "        return numerator/denominator"
   ]
  },
  {
   "cell_type": "code",
   "execution_count": 13,
   "id": "60963ed3",
   "metadata": {},
   "outputs": [
    {
     "name": "stderr",
     "output_type": "stream",
     "text": [
      "....\n",
      "----------------------------------------------------------------------\n",
      "Ran 4 tests in 0.003s\n",
      "\n",
      "OK\n"
     ]
    }
   ],
   "source": [
    "import unittest\n",
    "\n",
    "class SimpleMathTest(unittest.TestCase):\n",
    "    def testThatZeroNumeratorReturnsZero(self):\n",
    "        math = SimpleMath()\n",
    "        self.assertEqual(math.divide(0,7),0)\n",
    "    def testThatSmallerNumeratorReturnsDecimalValue(self):\n",
    "        math = SimpleMath()\n",
    "        self.assertEqual(math.divide(1,4),.25)\n",
    "    def testThatSmallerNumeratorReturnsRepeatingDecimalValue(self):\n",
    "        math = SimpleMath()\n",
    "        self.assertAlmostEqual(0.143, math.divide(1,7),3)\n",
    "    def testThatZeroDenominatorThrowsException(self):\n",
    "        math = SimpleMath()\n",
    "        with self.assertRaises(ZeroDivisionError):\n",
    "            math.divide(6,0)\n",
    "if __name__ == '__main__':\n",
    "    unittest.main(argv=['first-arg-is-ignored'], exit=False)"
   ]
  },
  {
   "cell_type": "code",
   "execution_count": null,
   "id": "35b53621",
   "metadata": {},
   "outputs": [],
   "source": []
  }
 ],
 "metadata": {
  "kernelspec": {
   "display_name": "Python 3",
   "language": "python",
   "name": "python3"
  },
  "language_info": {
   "codemirror_mode": {
    "name": "ipython",
    "version": 3
   },
   "file_extension": ".py",
   "mimetype": "text/x-python",
   "name": "python",
   "nbconvert_exporter": "python",
   "pygments_lexer": "ipython3",
   "version": "3.8.8"
  }
 },
 "nbformat": 4,
 "nbformat_minor": 5
}
